{
 "cells": [
  {
   "cell_type": "code",
   "execution_count": 15,
   "metadata": {},
   "outputs": [],
   "source": [
    "import pandas as pd\n",
    "import numpy as np\n",
    "from numpy import argmax\n",
    "import matplotlib.pyplot as plt\n",
    "from sklearn.model_selection import train_test_split\n",
    "from sklearn.metrics import confusion_matrix\n",
    "import keras\n",
    "from keras.callbacks import EarlyStopping\n",
    "from keras.callbacks import History\n",
    "from keras.models import Sequential\n",
    "from keras.layers import Dense, Dropout, Activation, Flatten\n",
    "from keras.layers.convolutional import Conv2D, MaxPooling2D\n",
    "from sklearn.linear_model import LogisticRegression\n",
    "from sklearn.preprocessing import LabelEncoder\n",
    "from sklearn.preprocessing import OneHotEncoder\n",
    "import itertools"
   ]
  },
  {
   "cell_type": "code",
   "execution_count": 2,
   "metadata": {},
   "outputs": [],
   "source": [
    "data_df = pd.read_csv('data.csv')\n",
    "#to make it faster I am working only with the numbers\n",
    "data_df = data_df[72000:]"
   ]
  },
  {
   "cell_type": "code",
   "execution_count": 3,
   "metadata": {},
   "outputs": [],
   "source": [
    "#separating features from label\n",
    "X_df = data_df.drop(['character'], axis=1)\n",
    "#scaling the features by dividing it by 2555\n",
    "X_df = X_df/255\n",
    "#converting X to matrix form \n",
    "X = X_df.as_matrix()"
   ]
  },
  {
   "cell_type": "markdown",
   "metadata": {},
   "source": [
    "With the MNIST dataset it was pretty easy to encode the digits but here since it was a string of labels I had to make amendments"
   ]
  },
  {
   "cell_type": "code",
   "execution_count": 4,
   "metadata": {},
   "outputs": [
    {
     "name": "stdout",
     "output_type": "stream",
     "text": [
      "[0 0 0 ... 9 9 9]\n"
     ]
    }
   ],
   "source": [
    "\n",
    "# integer encode\n",
    "label_encoder = LabelEncoder()\n",
    "integer_encoded = label_encoder.fit_transform(data_df['character'])\n",
    "print(integer_encoded)\n",
    "\n",
    "# binary encode\n",
    "onehot_encoder = OneHotEncoder(sparse=False)\n",
    "integer_encoded = integer_encoded.reshape(len(integer_encoded), 1)\n",
    "y = onehot_encoder.fit_transform(integer_encoded)"
   ]
  },
  {
   "cell_type": "code",
   "execution_count": 5,
   "metadata": {},
   "outputs": [],
   "source": [
    "#Splitting the data into training and testing \n",
    "X_train, X_test, y_train,y_test = train_test_split(X,y,random_state=123, test_size=0.3)"
   ]
  },
  {
   "cell_type": "code",
   "execution_count": 6,
   "metadata": {},
   "outputs": [
    {
     "name": "stdout",
     "output_type": "stream",
     "text": [
      "Train on 9800 samples, validate on 4200 samples\n",
      "Epoch 1/40\n",
      "9800/9800 [==============================] - 4s 437us/step - loss: 1.1323 - acc: 0.7193 - val_loss: 0.4917 - val_acc: 0.8731\n",
      "Epoch 2/40\n",
      "9800/9800 [==============================] - 3s 343us/step - loss: 0.3738 - acc: 0.8986 - val_loss: 0.3249 - val_acc: 0.9048\n",
      "Epoch 3/40\n",
      "9800/9800 [==============================] - 3s 350us/step - loss: 0.2590 - acc: 0.9278 - val_loss: 0.2760 - val_acc: 0.9119\n",
      "Epoch 4/40\n",
      "9800/9800 [==============================] - 4s 379us/step - loss: 0.2050 - acc: 0.9449 - val_loss: 0.2472 - val_acc: 0.9264\n",
      "Epoch 5/40\n",
      "9800/9800 [==============================] - 3s 354us/step - loss: 0.1732 - acc: 0.9538 - val_loss: 0.1870 - val_acc: 0.9440\n",
      "Epoch 6/40\n",
      "9800/9800 [==============================] - 4s 376us/step - loss: 0.1511 - acc: 0.9569 - val_loss: 0.1849 - val_acc: 0.9474\n",
      "Epoch 7/40\n",
      "9800/9800 [==============================] - 4s 370us/step - loss: 0.1342 - acc: 0.9650 - val_loss: 0.1730 - val_acc: 0.9524\n",
      "Epoch 8/40\n",
      "9800/9800 [==============================] - 4s 360us/step - loss: 0.1195 - acc: 0.9695 - val_loss: 0.1629 - val_acc: 0.9536\n",
      "Epoch 9/40\n",
      "9800/9800 [==============================] - 4s 364us/step - loss: 0.1073 - acc: 0.9724 - val_loss: 0.1540 - val_acc: 0.9543\n",
      "Epoch 10/40\n",
      "9800/9800 [==============================] - 3s 341us/step - loss: 0.0979 - acc: 0.9756 - val_loss: 0.1443 - val_acc: 0.9602\n",
      "Epoch 11/40\n",
      "9800/9800 [==============================] - 4s 364us/step - loss: 0.0883 - acc: 0.9789 - val_loss: 0.1398 - val_acc: 0.9619\n",
      "Epoch 12/40\n",
      "9800/9800 [==============================] - 3s 349us/step - loss: 0.0807 - acc: 0.9815 - val_loss: 0.1399 - val_acc: 0.9590\n",
      "Epoch 13/40\n",
      "9800/9800 [==============================] - 3s 354us/step - loss: 0.0751 - acc: 0.9824 - val_loss: 0.1251 - val_acc: 0.9636\n",
      "Epoch 14/40\n",
      "9800/9800 [==============================] - 3s 346us/step - loss: 0.0684 - acc: 0.9831 - val_loss: 0.1239 - val_acc: 0.9629\n",
      "Epoch 15/40\n",
      "9800/9800 [==============================] - 3s 352us/step - loss: 0.0636 - acc: 0.9854 - val_loss: 0.1235 - val_acc: 0.9643\n",
      "Epoch 16/40\n",
      "9800/9800 [==============================] - 4s 364us/step - loss: 0.0579 - acc: 0.9871 - val_loss: 0.1216 - val_acc: 0.9621\n",
      "Epoch 17/40\n",
      "9800/9800 [==============================] - 4s 363us/step - loss: 0.0530 - acc: 0.9893 - val_loss: 0.1133 - val_acc: 0.9669\n",
      "Epoch 18/40\n",
      "9800/9800 [==============================] - 4s 359us/step - loss: 0.0493 - acc: 0.9895 - val_loss: 0.1994 - val_acc: 0.9369\n",
      "Epoch 19/40\n",
      "9800/9800 [==============================] - 4s 367us/step - loss: 0.0454 - acc: 0.9906 - val_loss: 0.1134 - val_acc: 0.9667\n"
     ]
    },
    {
     "data": {
      "text/plain": [
       "<keras.callbacks.History at 0x1a1d9cb390>"
      ]
     },
     "execution_count": 6,
     "metadata": {},
     "output_type": "execute_result"
    }
   ],
   "source": [
    "#fitting ANN with three layers and 250 nodes each (300 didnt give any increased accurary and increased computation time by 50%)\n",
    "model = Sequential()\n",
    "early_stopping = EarlyStopping(patience=2)\n",
    "model.add(Dense(250, activation = 'relu', input_shape=(1024,)))\n",
    "model.add(Dense(250, activation = 'relu'))\n",
    "model.add(Dense(250, activation = 'relu'))\n",
    "model.add(Dense(10, activation = 'softmax'))\n",
    "model.compile(optimizer ='sgd', loss='categorical_crossentropy', metrics=['accuracy'])\n",
    "model.fit(X_train,y_train,validation_split=0.3, callbacks=[early_stopping], epochs=40)\n"
   ]
  },
  {
   "cell_type": "code",
   "execution_count": 7,
   "metadata": {},
   "outputs": [
    {
     "name": "stdout",
     "output_type": "stream",
     "text": [
      "6000/6000 [==============================] - 1s 124us/step\n"
     ]
    },
    {
     "data": {
      "text/plain": [
       "[0.11665443541606267, 0.9646666666666667]"
      ]
     },
     "execution_count": 7,
     "metadata": {},
     "output_type": "execute_result"
    }
   ],
   "source": [
    "model.evaluate(X_test,y_test)"
   ]
  },
  {
   "cell_type": "code",
   "execution_count": 8,
   "metadata": {},
   "outputs": [],
   "source": [
    "#startin for CNN\n",
    "X = X_df.values.reshape(-1,32,32,1)"
   ]
  },
  {
   "cell_type": "code",
   "execution_count": 9,
   "metadata": {},
   "outputs": [],
   "source": [
    "X_train, X_test, y_train,y_test = train_test_split(X,y,random_state=123, test_size=0.3)"
   ]
  },
  {
   "cell_type": "code",
   "execution_count": 10,
   "metadata": {},
   "outputs": [
    {
     "name": "stdout",
     "output_type": "stream",
     "text": [
      "Train on 14000 samples, validate on 6000 samples\n",
      "Epoch 1/50\n",
      "14000/14000 [==============================] - 100s 7ms/step - loss: 0.9622 - acc: 0.6743 - val_loss: 0.2603 - val_acc: 0.9193\n",
      "Epoch 2/50\n",
      "14000/14000 [==============================] - 129s 9ms/step - loss: 0.3953 - acc: 0.8689 - val_loss: 0.1792 - val_acc: 0.9458\n",
      "Epoch 3/50\n",
      "14000/14000 [==============================] - 132s 9ms/step - loss: 0.2860 - acc: 0.9061 - val_loss: 0.1350 - val_acc: 0.9572\n",
      "Epoch 4/50\n",
      "14000/14000 [==============================] - 95s 7ms/step - loss: 0.2351 - acc: 0.9239 - val_loss: 0.1111 - val_acc: 0.9658\n",
      "Epoch 5/50\n",
      "14000/14000 [==============================] - 89s 6ms/step - loss: 0.1898 - acc: 0.9373 - val_loss: 0.1061 - val_acc: 0.9670\n",
      "Epoch 6/50\n",
      "14000/14000 [==============================] - 108s 8ms/step - loss: 0.1648 - acc: 0.9479 - val_loss: 0.0830 - val_acc: 0.9748\n",
      "Epoch 7/50\n",
      "14000/14000 [==============================] - 96s 7ms/step - loss: 0.1482 - acc: 0.9542 - val_loss: 0.0807 - val_acc: 0.9728\n",
      "Epoch 8/50\n",
      "14000/14000 [==============================] - 89s 6ms/step - loss: 0.1340 - acc: 0.9566 - val_loss: 0.0714 - val_acc: 0.9792\n",
      "Epoch 9/50\n",
      "14000/14000 [==============================] - 89s 6ms/step - loss: 0.1184 - acc: 0.9629 - val_loss: 0.0630 - val_acc: 0.9795\n",
      "Epoch 10/50\n",
      "14000/14000 [==============================] - 127s 9ms/step - loss: 0.1135 - acc: 0.9626 - val_loss: 0.0632 - val_acc: 0.9815\n",
      "Epoch 11/50\n",
      "14000/14000 [==============================] - 134s 10ms/step - loss: 0.1049 - acc: 0.9655 - val_loss: 0.0556 - val_acc: 0.9815\n",
      "Epoch 12/50\n",
      "14000/14000 [==============================] - 126s 9ms/step - loss: 0.0850 - acc: 0.9735 - val_loss: 0.0543 - val_acc: 0.9832\n",
      "Epoch 13/50\n",
      "14000/14000 [==============================] - 132s 9ms/step - loss: 0.0849 - acc: 0.9722 - val_loss: 0.0546 - val_acc: 0.9818\n",
      "Epoch 14/50\n",
      "14000/14000 [==============================] - 145s 10ms/step - loss: 0.0762 - acc: 0.9750 - val_loss: 0.0473 - val_acc: 0.9842\n",
      "Epoch 15/50\n",
      "14000/14000 [==============================] - 109s 8ms/step - loss: 0.0740 - acc: 0.9749 - val_loss: 0.0479 - val_acc: 0.9843\n",
      "Epoch 16/50\n",
      "14000/14000 [==============================] - 111s 8ms/step - loss: 0.0656 - acc: 0.9759 - val_loss: 0.0483 - val_acc: 0.9847\n"
     ]
    },
    {
     "data": {
      "text/plain": [
       "<keras.callbacks.History at 0x107fcca58>"
      ]
     },
     "execution_count": 10,
     "metadata": {},
     "output_type": "execute_result"
    }
   ],
   "source": [
    "model = Sequential()\n",
    "model.add(Conv2D(filters = 32, kernel_size = (5,5),padding = 'valid', \n",
    "                 activation ='relu', input_shape = (32,32,1)))\n",
    "model.add(Conv2D(filters = 32, kernel_size = (5,5),padding = 'valid', \n",
    "                 activation ='relu'))\n",
    "model.add(MaxPooling2D(pool_size=(2,2)))\n",
    "model.add(Dropout(0.25))\n",
    "\n",
    "model.add(Flatten())\n",
    "#since it was becoming computationally expensive i am running just one layer with 100 nodes in the hidden layer\n",
    "model.add(Dense(100, activation = \"relu\"))\n",
    "model.add(Dropout(0.5))\n",
    "model.add(Dense(10, activation = \"softmax\"))\n",
    "model.compile(optimizer ='sgd', loss='categorical_crossentropy', metrics=['accuracy'])\n",
    "model.fit(X_train,y_train,validation_data=[X_test,y_test], callbacks=[early_stopping], epochs=50)"
   ]
  },
  {
   "cell_type": "code",
   "execution_count": 11,
   "metadata": {},
   "outputs": [],
   "source": [
    "#using it on the testing model\n",
    "y_pred = model.predict(X_test)\n"
   ]
  },
  {
   "cell_type": "code",
   "execution_count": null,
   "metadata": {
    "scrolled": true
   },
   "outputs": [],
   "source": [
    "y_pred_classes = []\n",
    "for x in y_pred:\n",
    "    inverted = label_encoder.inverse_transform([argmax(x)])\n",
    "    y_pred_classes.append(inverted)"
   ]
  },
  {
   "cell_type": "code",
   "execution_count": 13,
   "metadata": {},
   "outputs": [
    {
     "data": {
      "text/plain": [
       "[0.04830487777742868, 0.9846666666666667]"
      ]
     },
     "execution_count": 13,
     "metadata": {},
     "output_type": "execute_result"
    }
   ],
   "source": [
    "#getting an overall accuracy of 97.48% with just basic neural network seem really good. With multiple hidden layer\n",
    "#it could be nudged to 97-98 I am a sure\n",
    "model.evaluate(X_test, y_test, verbose=0)\n"
   ]
  },
  {
   "cell_type": "code",
   "execution_count": 16,
   "metadata": {},
   "outputs": [
    {
     "data": {
      "image/png": "[encoded data removed]",
      "text/plain": [
       "<Figure size 432x288 with 2 Axes>"
      ]
     },
     "metadata": {},
     "output_type": "display_data"
    }
   ],
   "source": [
    "#I have taken this from another kernel by Yassine Ghouzam who has done an amazing job on digit recognizer (mnist dataset) check it out\n",
    "# https://www.kaggle.com/yassineghouzam/introduction-to-cnn-keras-0-997-top-6\n",
    "\n",
    "def plot_confusion_matrix(cm, classes,\n",
    "                          normalize=False,\n",
    "                          title='Confusion matrix',\n",
    "                          cmap=plt.cm.Blues):\n",
    "    \"\"\"\n",
    "    This function prints and plots the confusion matrix.\n",
    "    Normalization can be applied by setting `normalize=True`.\n",
    "    \"\"\"\n",
    "    plt.imshow(cm, interpolation='nearest', cmap=cmap)\n",
    "    plt.title(title)\n",
    "    plt.colorbar()\n",
    "    tick_marks = np.arange(len(classes))\n",
    "    plt.xticks(tick_marks, classes, rotation=45)\n",
    "    plt.yticks(tick_marks, classes)\n",
    "\n",
    "    if normalize:\n",
    "        cm = cm.astype('float') / cm.sum(axis=1)[:, np.newaxis]\n",
    "\n",
    "    thresh = cm.max() / 2.\n",
    "    for i, j in itertools.product(range(cm.shape[0]), range(cm.shape[1])):\n",
    "        plt.text(j, i, cm[i, j],\n",
    "                 horizontalalignment=\"center\",\n",
    "                 color=\"white\" if cm[i, j] > thresh else \"black\")\n",
    "\n",
    "    plt.tight_layout()\n",
    "    plt.ylabel('True label')\n",
    "    plt.xlabel('Predicted label')\n",
    "\n",
    "\n",
    "# Convert predictions classes to one hot vectors \n",
    "y_pred_classes = np.argmax(y_pred,axis = 1) \n",
    "# Convert validation observations to one hot vectors\n",
    "y_true = np.argmax(y_test,axis = 1) \n",
    "# compute the confusion matrix\n",
    "confusion_mtx = confusion_matrix(y_true, y_pred_classes) \n",
    "# plot the confusion matrix\n",
    "plt.clf()\n",
    "plot_confusion_matrix(confusion_mtx, classes = range(10)) \n",
    "plt.tick_params(axis='both', which='major', labelsize=20)\n",
    "plt.show()"
   ]
  },
  {
   "cell_type": "code",
   "execution_count": null,
   "metadata": {},
   "outputs": [],
   "source": []
  }
 ],
 "metadata": {
  "kernelspec": {
   "display_name": "Python 3",
   "language": "python",
   "name": "python3"
  },
  "language_info": {
   "codemirror_mode": {
    "name": "ipython",
    "version": 3
   },
   "file_extension": ".py",
   "mimetype": "text/x-python",
   "name": "python",
   "nbconvert_exporter": "python",
   "pygments_lexer": "ipython3",
   "version": "3.6.3"
  }
 },
 "nbformat": 4,
 "nbformat_minor": 2
}
